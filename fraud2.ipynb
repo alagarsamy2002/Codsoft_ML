{
  "cells": [
    {
      "cell_type": "markdown",
      "source": [
        "\n",
        "# CREDIT CARD FRAUD DETECTION"
      ],
      "metadata": {
        "id": "bLo6UlDWAuVW"
      }
    },
    {
      "cell_type": "code",
      "execution_count": null,
      "metadata": {
        "colab": {
          "base_uri": "https://localhost:8080/"
        },
        "id": "6yYpyDDUTmYf",
        "outputId": "0f0dadc1-3655-4b60-ffaa-ff2f7835f09b"
      },
      "outputs": [
        {
          "output_type": "stream",
          "name": "stdout",
          "text": [
            "Drive already mounted at /content/drive/; to attempt to forcibly remount, call drive.mount(\"/content/drive/\", force_remount=True).\n"
          ]
        }
      ],
      "source": [
        "import pandas as pd\n",
        "from google.colab import drive\n",
        "drive.mount('/content/drive/')\n",
        "data1 = pd.read_csv('/content/drive/MyDrive/fraudTrain.csv')\n",
        "data2 = pd.read_csv('/content/drive/MyDrive/fraudTest.csv')\n"
      ]
    },
    {
      "cell_type": "code",
      "execution_count": null,
      "metadata": {
        "id": "deF6jIllU8xf",
        "colab": {
          "base_uri": "https://localhost:8080/"
        },
        "outputId": "e8644810-8b5f-47d6-e6e1-aa9a0f0f8d35"
      },
      "outputs": [
        {
          "output_type": "execute_result",
          "data": {
            "text/plain": [
              "Index(['Unnamed: 0', 'trans_date_trans_time', 'cc_num', 'merchant', 'category',\n",
              "       'amt', 'first', 'last', 'gender', 'street', 'city', 'state', 'zip',\n",
              "       'lat', 'long', 'city_pop', 'job', 'dob', 'trans_num', 'unix_time',\n",
              "       'merch_lat', 'merch_long', 'is_fraud'],\n",
              "      dtype='object')"
            ]
          },
          "metadata": {},
          "execution_count": 2
        }
      ],
      "source": [
        "data1.columns"
      ]
    },
    {
      "cell_type": "code",
      "source": [
        "data2.columns"
      ],
      "metadata": {
        "colab": {
          "base_uri": "https://localhost:8080/"
        },
        "id": "mz9AaYmdrY2H",
        "outputId": "46285668-2aa8-43a8-e8bc-3dae4d3b770c"
      },
      "execution_count": null,
      "outputs": [
        {
          "output_type": "execute_result",
          "data": {
            "text/plain": [
              "Index(['Unnamed: 0', 'trans_date_trans_time', 'cc_num', 'merchant', 'category',\n",
              "       'amt', 'first', 'last', 'gender', 'street', 'city', 'state', 'zip',\n",
              "       'lat', 'long', 'city_pop', 'job', 'dob', 'trans_num', 'unix_time',\n",
              "       'merch_lat', 'merch_long', 'is_fraud'],\n",
              "      dtype='object')"
            ]
          },
          "metadata": {},
          "execution_count": 3
        }
      ]
    },
    {
      "cell_type": "code",
      "source": [
        "import pandas as pd\n",
        "from sklearn.model_selection import train_test_split\n",
        "from sklearn.preprocessing import StandardScaler\n",
        "from sklearn.ensemble import RandomForestClassifier\n",
        "from sklearn.metrics import accuracy_score, confusion_matrix, classification_report\n",
        "\n",
        "# Load the training dataset\n",
        "train_data = pd.read_csv('/content/drive/MyDrive/fraudTrain.csv')\n",
        "\n",
        "# Load the testing dataset\n",
        "test_data = pd.read_csv('/content/drive/MyDrive/fraudTest.csv')\n",
        "\n",
        "# Select relevant features and target variable\n",
        "features = ['amt', 'city_pop', 'unix_time', 'merch_lat', 'merch_long']\n",
        "X_train = train_data[features]\n",
        "y_train = train_data['is_fraud']\n",
        "\n",
        "X_test = test_data[features]\n",
        "y_test = test_data['is_fraud']\n",
        "\n",
        "# Standardize features\n",
        "scaler = StandardScaler()\n",
        "X_train = scaler.fit_transform(X_train)\n",
        "X_test = scaler.transform(X_test)\n",
        "\n",
        "# Initialize and train a Random Forest Classifier\n",
        "clf = RandomForestClassifier(n_estimators=100, random_state=42)\n",
        "clf.fit(X_train, y_train)\n",
        "\n",
        "# Make predictions on the testing dataset\n",
        "y_pred = clf.predict(X_test)\n",
        "\n",
        "# Print the predictions\n",
        "print(\"Predictions:\", y_pred)\n",
        "\n",
        "# Evaluate the model\n",
        "accuracy = accuracy_score(y_test, y_pred)\n",
        "confusion = confusion_matrix(y_test, y_pred)\n",
        "report = classification_report(y_test, y_pred)\n",
        "\n",
        "print(\"Accuracy:\", accuracy)\n",
        "print(\"Confusion Matrix:\")\n",
        "print(confusion)\n",
        "print(\"Classification Report:\")\n",
        "print(report)\n"
      ],
      "metadata": {
        "colab": {
          "base_uri": "https://localhost:8080/"
        },
        "id": "vgqzNnCayDYe",
        "outputId": "12bcc39c-2765-46c2-eec6-9439a86c25f4"
      },
      "execution_count": null,
      "outputs": [
        {
          "output_type": "stream",
          "name": "stdout",
          "text": [
            "Predictions: [0 0 0 ... 0 0 0]\n",
            "Accuracy: 0.9957604472764113\n",
            "Confusion Matrix:\n",
            "[[552876    698]\n",
            " [  1658    487]]\n",
            "Classification Report:\n",
            "              precision    recall  f1-score   support\n",
            "\n",
            "           0       1.00      1.00      1.00    553574\n",
            "           1       0.41      0.23      0.29      2145\n",
            "\n",
            "    accuracy                           1.00    555719\n",
            "   macro avg       0.70      0.61      0.65    555719\n",
            "weighted avg       0.99      1.00      1.00    555719\n",
            "\n"
          ]
        }
      ]
    }
  ],
  "metadata": {
    "colab": {
      "provenance": []
    },
    "kernelspec": {
      "display_name": "Python 3",
      "name": "python3"
    },
    "language_info": {
      "name": "python"
    }
  },
  "nbformat": 4,
  "nbformat_minor": 0
}