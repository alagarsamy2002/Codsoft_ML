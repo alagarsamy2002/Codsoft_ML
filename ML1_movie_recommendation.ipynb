{
  "nbformat": 4,
  "nbformat_minor": 0,
  "metadata": {
    "colab": {
      "provenance": []
    },
    "kernelspec": {
      "name": "python3",
      "display_name": "Python 3"
    },
    "language_info": {
      "name": "python"
    }
  },
  "cells": [
    {
      "cell_type": "markdown",
      "source": [
        "# **MOVIE GENRE CLASSIFICATION**"
      ],
      "metadata": {
        "id": "FQI9e852BtHd"
      }
    },
    {
      "cell_type": "code",
      "execution_count": null,
      "metadata": {
        "colab": {
          "base_uri": "https://localhost:8080/"
        },
        "id": "bNH385TT1N7Q",
        "outputId": "90d9d366-e4c8-4ddf-8dcb-d5d922b2509b"
      },
      "outputs": [
        {
          "output_type": "stream",
          "name": "stdout",
          "text": [
            "Mounted at /content/drive/\n"
          ]
        },
        {
          "output_type": "execute_result",
          "data": {
            "text/plain": [
              "Index(['MovieName', 'Genre', 'Rating', 'Director', 'Actor', 'PeopleVote',\n",
              "       'Year', 'Hero_Rating', 'movie_rating', 'content_rating'],\n",
              "      dtype='object')"
            ]
          },
          "metadata": {},
          "execution_count": 1
        }
      ],
      "source": [
        "import pandas as pd\n",
        "from google.colab import drive\n",
        "drive.mount('/content/drive/')\n",
        "data = pd.read_csv('/content/drive/MyDrive/Tamil_movies_dataset.csv')\n",
        "data.columns\n"
      ]
    },
    {
      "cell_type": "code",
      "source": [
        "import pandas as pd\n",
        "from sklearn.model_selection import train_test_split\n",
        "from sklearn.feature_extraction.text import TfidfVectorizer\n",
        "from sklearn.svm import SVC\n",
        "from sklearn.metrics import classification_report, accuracy_score\n",
        "\n",
        "# Load your dataset\n",
        "data = pd.read_csv('/content/drive/MyDrive/test_predictions.csv')\n",
        "\n",
        "# Split the dataset into training and testing sets\n",
        "X = data['DESCRIPTION']\n",
        "y = data['PREDICTED_GENRE']\n",
        "X_train, X_test, y_train, y_test = train_test_split(X, y, test_size=0.2, random_state=42)\n",
        "\n",
        "# Create TF-IDF vector representations of the text data\n",
        "tfidf_vectorizer = TfidfVectorizer(max_features=5000, stop_words='english')\n",
        "X_train_tfidf = tfidf_vectorizer.fit_transform(X_train)\n",
        "X_test_tfidf = tfidf_vectorizer.transform(X_test)\n",
        "\n",
        "# Choose a classifier and train the model\n",
        "svm_classifier = SVC(kernel='linear')  # You can experiment with different kernel options\n",
        "svm_classifier.fit(X_train_tfidf, y_train)\n",
        "y_pred_svm = svm_classifier.predict(X_test_tfidf)\n",
        "\n",
        "# Evaluate the SVM model's performance\n",
        "def evaluate_model(y_true, y_pred, model_name):\n",
        "    print(f\"Evaluation for {model_name}:\")\n",
        "    accuracy = accuracy_score(y_true, y_pred)\n",
        "    classification_rep = classification_report(y_true, y_pred)\n",
        "    print(f\"Accuracy: {accuracy:.2f}\")\n",
        "    print(classification_rep)\n",
        "\n",
        "evaluate_model(y_test, y_pred_svm, \"Support Vector Machine\")\n"
      ],
      "metadata": {
        "colab": {
          "base_uri": "https://localhost:8080/"
        },
        "id": "Yoq1gv1j-T28",
        "outputId": "744bd56c-a37b-48a7-ab7f-bb9cf020cdd8"
      },
      "execution_count": null,
      "outputs": [
        {
          "output_type": "stream",
          "name": "stdout",
          "text": [
            "Evaluation for Support Vector Machine:\n",
            "Accuracy: 0.82\n",
            "              precision    recall  f1-score   support\n",
            "\n",
            "      action       0.76      0.52      0.62       138\n",
            "       adult       0.71      0.41      0.52        41\n",
            "   adventure       0.72      0.53      0.61        40\n",
            "   animation       0.00      0.00      0.00         8\n",
            "      comedy       0.76      0.77      0.77      1699\n",
            "       crime       1.00      0.10      0.18        10\n",
            " documentary       0.86      0.90      0.88      3436\n",
            "       drama       0.81      0.90      0.85      3770\n",
            "      family       0.67      0.13      0.22        31\n",
            "     fantasy       0.00      0.00      0.00         1\n",
            "   game-show       1.00      0.78      0.88        23\n",
            "      horror       0.83      0.76      0.79       387\n",
            "       music       0.77      0.55      0.65        92\n",
            "     musical       1.00      0.25      0.40         4\n",
            "        news       0.00      0.00      0.00         1\n",
            "  reality-tv       0.72      0.31      0.43        68\n",
            "     romance       0.00      0.00      0.00        14\n",
            "      sci-fi       0.88      0.61      0.72        57\n",
            "       short       0.76      0.51      0.61       710\n",
            "       sport       1.00      0.41      0.59        29\n",
            "   talk-show       0.60      0.14      0.22        22\n",
            "    thriller       0.70      0.40      0.51        97\n",
            "     western       0.90      0.86      0.88       162\n",
            "\n",
            "    accuracy                           0.82     10840\n",
            "   macro avg       0.67      0.43      0.49     10840\n",
            "weighted avg       0.81      0.82      0.81     10840\n",
            "\n"
          ]
        },
        {
          "output_type": "stream",
          "name": "stderr",
          "text": [
            "/usr/local/lib/python3.10/dist-packages/sklearn/metrics/_classification.py:1344: UndefinedMetricWarning: Precision and F-score are ill-defined and being set to 0.0 in labels with no predicted samples. Use `zero_division` parameter to control this behavior.\n",
            "  _warn_prf(average, modifier, msg_start, len(result))\n",
            "/usr/local/lib/python3.10/dist-packages/sklearn/metrics/_classification.py:1344: UndefinedMetricWarning: Precision and F-score are ill-defined and being set to 0.0 in labels with no predicted samples. Use `zero_division` parameter to control this behavior.\n",
            "  _warn_prf(average, modifier, msg_start, len(result))\n",
            "/usr/local/lib/python3.10/dist-packages/sklearn/metrics/_classification.py:1344: UndefinedMetricWarning: Precision and F-score are ill-defined and being set to 0.0 in labels with no predicted samples. Use `zero_division` parameter to control this behavior.\n",
            "  _warn_prf(average, modifier, msg_start, len(result))\n"
          ]
        }
      ]
    },
    {
      "cell_type": "code",
      "source": [],
      "metadata": {
        "id": "VnMUAdrb1Ytp"
      },
      "execution_count": null,
      "outputs": []
    }
  ]
}